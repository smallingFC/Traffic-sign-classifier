{
 "cells": [
  {
   "cell_type": "code",
   "execution_count": 1,
   "metadata": {},
   "outputs": [],
   "source": [
    "import numpy as np\n",
    "import pandas as pd\n",
    "import matplotlib.pyplot as plt\n",
    "import tensorflow as tf\n",
    "from PIL import Image\n",
    "import os\n",
    "from sklearn.model_selection import train_test_split\n",
    "from keras.utils import to_categorical\n",
    "from keras import models\n",
    "from keras.layers import Conv2D,MaxPool2D,Dense,Flatten,Dropout"
   ]
  },
  {
   "cell_type": "code",
   "execution_count": 2,
   "metadata": {},
   "outputs": [],
   "source": [
    "data=[]\n",
    "labels=[]\n",
    "classes=43 #the number of folders in train folder\n",
    "current_path=os.getcwd()\n",
    "\n",
    "for i in range(classes):\n",
    "    path=os.path.join(current_path,'Train',str(i))\n",
    "    images=os.listdir(path)\n",
    "    \n",
    "    for a in images:\n",
    "        try:\n",
    "            image=Image.open(path+'\\\\'+a)\n",
    "            image=image.resize((30,30))\n",
    "            image=np.array(image)\n",
    "            data.append(image)\n",
    "            labels.append(i)\n",
    "        except:\n",
    "            print(\"Error loading image\")\n",
    "data=np.array(data)\n",
    "labels=np.array(labels)"
   ]
  },
  {
   "cell_type": "code",
   "execution_count": 3,
   "metadata": {},
   "outputs": [
    {
     "data": {
      "text/plain": [
       "(39209, 30, 30, 3)"
      ]
     },
     "execution_count": 3,
     "metadata": {},
     "output_type": "execute_result"
    }
   ],
   "source": [
    "data.shape"
   ]
  },
  {
   "cell_type": "code",
   "execution_count": 4,
   "metadata": {},
   "outputs": [
    {
     "data": {
      "text/plain": [
       "(39209,)"
      ]
     },
     "execution_count": 4,
     "metadata": {},
     "output_type": "execute_result"
    }
   ],
   "source": [
    "labels.shape"
   ]
  },
  {
   "cell_type": "code",
   "execution_count": 5,
   "metadata": {},
   "outputs": [
    {
     "name": "stdout",
     "output_type": "stream",
     "text": [
      "(31367, 30, 30, 3) (7842, 30, 30, 3) (31367,) (7842,)\n"
     ]
    }
   ],
   "source": [
    "X_train,X_test,y_train,y_test=train_test_split(data,labels,test_size=0.2,random_state=42)\n",
    "print(X_train.shape,X_test.shape,y_train.shape,y_test.shape)"
   ]
  },
  {
   "cell_type": "code",
   "execution_count": 6,
   "metadata": {},
   "outputs": [],
   "source": [
    "y_train=to_categorical(y_train,classes)\n",
    "y_test=to_categorical(y_test,classes)"
   ]
  },
  {
   "cell_type": "code",
   "execution_count": 7,
   "metadata": {},
   "outputs": [
    {
     "name": "stdout",
     "output_type": "stream",
     "text": [
      "Model: \"sequential\"\n",
      "_________________________________________________________________\n",
      "Layer (type)                 Output Shape              Param #   \n",
      "=================================================================\n",
      "conv2d (Conv2D)              (None, 26, 26, 32)        2432      \n",
      "_________________________________________________________________\n",
      "conv2d_1 (Conv2D)            (None, 22, 22, 32)        25632     \n",
      "_________________________________________________________________\n",
      "max_pooling2d (MaxPooling2D) (None, 11, 11, 32)        0         \n",
      "_________________________________________________________________\n",
      "dropout (Dropout)            (None, 11, 11, 32)        0         \n",
      "_________________________________________________________________\n",
      "conv2d_2 (Conv2D)            (None, 9, 9, 64)          18496     \n",
      "_________________________________________________________________\n",
      "conv2d_3 (Conv2D)            (None, 7, 7, 64)          36928     \n",
      "_________________________________________________________________\n",
      "max_pooling2d_1 (MaxPooling2 (None, 3, 3, 64)          0         \n",
      "_________________________________________________________________\n",
      "dropout_1 (Dropout)          (None, 3, 3, 64)          0         \n",
      "_________________________________________________________________\n",
      "flatten (Flatten)            (None, 576)               0         \n",
      "_________________________________________________________________\n",
      "dense (Dense)                (None, 256)               147712    \n",
      "_________________________________________________________________\n",
      "dropout_2 (Dropout)          (None, 256)               0         \n",
      "_________________________________________________________________\n",
      "dense_1 (Dense)              (None, 43)                11051     \n",
      "=================================================================\n",
      "Total params: 242,251\n",
      "Trainable params: 242,251\n",
      "Non-trainable params: 0\n",
      "_________________________________________________________________\n"
     ]
    }
   ],
   "source": [
    "model=models.Sequential()\n",
    "model.add(Conv2D(filters=32,kernel_size=(5,5), activation='relu',input_shape=X_train.shape[1:]))\n",
    "model.add(Conv2D(filters=32,kernel_size=(5,5), activation='relu'))\n",
    "model.add(MaxPool2D(pool_size=(2,2)))\n",
    "model.add(Dropout(rate=0.25))\n",
    "model.add(Conv2D(filters=64,kernel_size=(3,3), activation='relu'))\n",
    "model.add(Conv2D(filters=64,kernel_size=(3,3), activation='relu'))\n",
    "model.add(MaxPool2D(pool_size=(2,2)))\n",
    "model.add(Dropout(rate=0.25))\n",
    "model.add(Flatten())\n",
    "model.add(Dense(256,activation='relu'))\n",
    "model.add(Dropout(rate=0.5))\n",
    "model.add(Dense(43,activation='softmax'))\n",
    "model.summary()"
   ]
  },
  {
   "cell_type": "code",
   "execution_count": 8,
   "metadata": {},
   "outputs": [],
   "source": [
    "model.compile(loss='categorical_crossentropy',optimizer='adam',metrics=['accuracy'])"
   ]
  },
  {
   "cell_type": "code",
   "execution_count": 9,
   "metadata": {},
   "outputs": [
    {
     "name": "stdout",
     "output_type": "stream",
     "text": [
      "Epoch 1/20\n",
      "491/491 [==============================] - 61s 122ms/step - loss: 5.1735 - accuracy: 0.2257 - val_loss: 1.0133 - val_accuracy: 0.7595\n",
      "Epoch 2/20\n",
      "491/491 [==============================] - 69s 140ms/step - loss: 1.1273 - accuracy: 0.6759 - val_loss: 0.3890 - val_accuracy: 0.8947\n",
      "Epoch 3/20\n",
      "491/491 [==============================] - 70s 142ms/step - loss: 0.6141 - accuracy: 0.8181 - val_loss: 0.2540 - val_accuracy: 0.9336\n",
      "Epoch 4/20\n",
      "491/491 [==============================] - 61s 123ms/step - loss: 0.4202 - accuracy: 0.8755 - val_loss: 0.1336 - val_accuracy: 0.9653\n",
      "Epoch 5/20\n",
      "491/491 [==============================] - 76s 155ms/step - loss: 0.3805 - accuracy: 0.8934 - val_loss: 0.0983 - val_accuracy: 0.9725\n",
      "Epoch 6/20\n",
      "491/491 [==============================] - 74s 151ms/step - loss: 0.2538 - accuracy: 0.9250 - val_loss: 0.1138 - val_accuracy: 0.9688\n",
      "Epoch 7/20\n",
      "491/491 [==============================] - 82s 168ms/step - loss: 0.2284 - accuracy: 0.9359 - val_loss: 0.0678 - val_accuracy: 0.9792\n",
      "Epoch 8/20\n",
      "491/491 [==============================] - 72s 146ms/step - loss: 0.1967 - accuracy: 0.9417 - val_loss: 0.0691 - val_accuracy: 0.9809\n",
      "Epoch 9/20\n",
      "491/491 [==============================] - 68s 139ms/step - loss: 0.2016 - accuracy: 0.9448 - val_loss: 0.0553 - val_accuracy: 0.9855\n",
      "Epoch 10/20\n",
      "491/491 [==============================] - 68s 138ms/step - loss: 0.1662 - accuracy: 0.9525 - val_loss: 0.0487 - val_accuracy: 0.9884\n",
      "Epoch 11/20\n",
      "491/491 [==============================] - 67s 136ms/step - loss: 0.1511 - accuracy: 0.9566 - val_loss: 0.0493 - val_accuracy: 0.9856\n",
      "Epoch 12/20\n",
      "491/491 [==============================] - 61s 125ms/step - loss: 0.1725 - accuracy: 0.9526 - val_loss: 0.0449 - val_accuracy: 0.9865\n",
      "Epoch 13/20\n",
      "491/491 [==============================] - 64s 129ms/step - loss: 0.1725 - accuracy: 0.9549 - val_loss: 0.0430 - val_accuracy: 0.9894\n",
      "Epoch 14/20\n",
      "491/491 [==============================] - 67s 137ms/step - loss: 0.1529 - accuracy: 0.9564 - val_loss: 0.0334 - val_accuracy: 0.9901\n",
      "Epoch 15/20\n",
      "491/491 [==============================] - 67s 136ms/step - loss: 0.1261 - accuracy: 0.9668 - val_loss: 0.0461 - val_accuracy: 0.9892\n",
      "Epoch 16/20\n",
      "491/491 [==============================] - 67s 136ms/step - loss: 0.1245 - accuracy: 0.9677 - val_loss: 0.0519 - val_accuracy: 0.9852\n",
      "Epoch 17/20\n",
      "491/491 [==============================] - 67s 137ms/step - loss: 0.1222 - accuracy: 0.9669 - val_loss: 0.0407 - val_accuracy: 0.9895\n",
      "Epoch 18/20\n",
      "491/491 [==============================] - 68s 138ms/step - loss: 0.1472 - accuracy: 0.9615 - val_loss: 0.0277 - val_accuracy: 0.9929\n",
      "Epoch 19/20\n",
      "491/491 [==============================] - 68s 138ms/step - loss: 0.1150 - accuracy: 0.9696 - val_loss: 0.0375 - val_accuracy: 0.9892\n",
      "Epoch 20/20\n",
      "491/491 [==============================] - 67s 136ms/step - loss: 0.1264 - accuracy: 0.9676 - val_loss: 0.0252 - val_accuracy: 0.9936\n"
     ]
    }
   ],
   "source": [
    "history=model.fit(X_train,y_train,batch_size=64,epochs=20,validation_data=(X_test,y_test))"
   ]
  },
  {
   "cell_type": "code",
   "execution_count": 10,
   "metadata": {},
   "outputs": [
    {
     "data": {
      "text/plain": [
       "<matplotlib.legend.Legend at 0x1dbaeb27340>"
      ]
     },
     "execution_count": 10,
     "metadata": {},
     "output_type": "execute_result"
    },
    {
     "data": {
      "image/png": "[encoded data removed]",
      "text/plain": [
       "<Figure size 432x288 with 1 Axes>"
      ]
     },
     "metadata": {
      "needs_background": "light"
     },
     "output_type": "display_data"
    }
   ],
   "source": [
    "#plot graph for accuracy\n",
    "plt.figure(0)\n",
    "plt.plot(history.history['accuracy'],label='Training Accuracy')\n",
    "plt.plot(history.history['val_accuracy'],label='Val Accuracy')\n",
    "plt.title('Accuracy Graph')\n",
    "plt.xlabel('Epochs')\n",
    "plt.ylabel(\"Accuracy\")\n",
    "plt.legend()"
   ]
  },
  {
   "cell_type": "code",
   "execution_count": 11,
   "metadata": {},
   "outputs": [
    {
     "data": {
      "text/plain": [
       "<matplotlib.legend.Legend at 0x1dbaee48040>"
      ]
     },
     "execution_count": 11,
     "metadata": {},
     "output_type": "execute_result"
    },
    {
     "data": {
      "image/png": "[encoded data removed]",
      "text/plain": [
       "<Figure size 432x288 with 1 Axes>"
      ]
     },
     "metadata": {
      "needs_background": "light"
     },
     "output_type": "display_data"
    }
   ],
   "source": [
    "#plot graph for loss\n",
    "plt.figure(1)\n",
    "plt.plot(history.history['loss'],label='Training Loss')\n",
    "plt.plot(history.history['val_loss'],label='Val Loss')\n",
    "plt.title('Loss Graph')\n",
    "plt.xlabel('Epochs')\n",
    "plt.ylabel(\"Loss\")\n",
    "plt.legend()"
   ]
  },
  {
   "cell_type": "code",
   "execution_count": 12,
   "metadata": {},
   "outputs": [],
   "source": [
    "# Testing model with test dataset"
   ]
  },
  {
   "cell_type": "code",
   "execution_count": 13,
   "metadata": {},
   "outputs": [],
   "source": [
    "from sklearn.metrics import accuracy_score\n",
    "import pandas as pd"
   ]
  },
  {
   "cell_type": "code",
   "execution_count": 14,
   "metadata": {},
   "outputs": [],
   "source": [
    "y_test=pd.read_csv('Test.csv')"
   ]
  },
  {
   "cell_type": "code",
   "execution_count": 15,
   "metadata": {},
   "outputs": [
    {
     "name": "stderr",
     "output_type": "stream",
     "text": [
      "C:\\ProgramData\\Anaconda3\\lib\\site-packages\\tensorflow\\python\\keras\\engine\\sequential.py:450: UserWarning: `model.predict_classes()` is deprecated and will be removed after 2021-01-01. Please use instead:* `np.argmax(model.predict(x), axis=-1)`,   if your model does multi-class classification   (e.g. if it uses a `softmax` last-layer activation).* `(model.predict(x) > 0.5).astype(\"int32\")`,   if your model does binary classification   (e.g. if it uses a `sigmoid` last-layer activation).\n",
      "  warnings.warn('`model.predict_classes()` is deprecated and '\n"
     ]
    }
   ],
   "source": [
    "labels=y_test['ClassId'].values\n",
    "imgs=y_test['Path'].values\n",
    "data=[]\n",
    "\n",
    "for img in imgs:\n",
    "    image=Image.open(img)\n",
    "    image=image.resize((30,30))\n",
    "    data.append(np.array(image))\n",
    "X_test=np.array(data)\n",
    "pred=model.predict_classes(X_test)"
   ]
  },
  {
   "cell_type": "code",
   "execution_count": 16,
   "metadata": {},
   "outputs": [
    {
     "data": {
      "text/plain": [
       "0.9618368962787015"
      ]
     },
     "execution_count": 16,
     "metadata": {},
     "output_type": "execute_result"
    }
   ],
   "source": [
    "accuracy_score(labels,pred)"
   ]
  },
  {
   "cell_type": "code",
   "execution_count": 17,
   "metadata": {},
   "outputs": [],
   "source": [
    "model.save('Traffic_Classifier.h5')"
   ]
  },
  {
   "cell_type": "code",
   "execution_count": 18,
   "metadata": {},
   "outputs": [],
   "source": [
    "#For the GUI part of this application"
   ]
  },
  {
   "cell_type": "code",
   "execution_count": null,
   "metadata": {},
   "outputs": [],
   "source": []
  }
 ],
 "metadata": {
  "kernelspec": {
   "display_name": "Python 3",
   "language": "python",
   "name": "python3"
  },
  "language_info": {
   "codemirror_mode": {
    "name": "ipython",
    "version": 3
   },
   "file_extension": ".py",
   "mimetype": "text/x-python",
   "name": "python",
   "nbconvert_exporter": "python",
   "pygments_lexer": "ipython3",
   "version": "3.8.8"
  }
 },
 "nbformat": 4,
 "nbformat_minor": 4
}
